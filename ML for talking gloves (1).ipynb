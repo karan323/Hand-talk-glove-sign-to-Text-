{
 "cells": [
  {
   "cell_type": "code",
   "execution_count": 34,
   "metadata": {},
   "outputs": [],
   "source": [
    "import pandas as pd\n",
    "df = pd.read_csv('data.csv')\n",
    "from sklearn.model_selection import train_test_split \n",
    "from sklearn.linear_model import LinearRegression\n",
    "import numpy as np"
   ]
  },
  {
   "cell_type": "code",
   "execution_count": 35,
   "metadata": {},
   "outputs": [
    {
     "name": "stdout",
     "output_type": "stream",
     "text": [
      "   Sensor0  Sensor1  Sensor2  Sensor3 o/p\n",
      "0    25070    31260    28863    32295   A\n",
      "1    24866    31138    28905    32302   A\n",
      "2    24895    31113    28884    32743   A\n",
      "3    24833    31611    28921    32357   A\n",
      "4    24888    31197    29266    32767   A\n"
     ]
    }
   ],
   "source": [
    "print(df.head())"
   ]
  },
  {
   "cell_type": "code",
   "execution_count": 37,
   "metadata": {},
   "outputs": [],
   "source": [
    "# string to numeric value.\n",
    "def handle_non_numeric_data(df):\n",
    "    columns = df.columns.values\n",
    "\n",
    "    for column in columns:\n",
    "        text_digit_vals = {}\n",
    "        def convert_to_int(val):\n",
    "            return text_digit_vals[val]\n",
    "\n",
    "        if df[column].dtype != np.int64 and df[column].dtype != np.float64:\n",
    "            column_contents = df[column].values.tolist()\n",
    "            unique_elements = set(column_contents)\n",
    "            x = 0\n",
    "\n",
    "            for unique in unique_elements:\n",
    "                if unique not in text_digit_vals:\n",
    "                    text_digit_vals[unique] = x\n",
    "                    x+=1\n",
    "\n",
    "            df[column] = list(map(convert_to_int, df[column]))\n",
    "\n",
    "    return df\n",
    "handle_non_numeric_data(df)\n",
    "x = df.drop(['o/p'], axis=1)\n",
    "y = df.drop(['Sensor0','Sensor1','Sensor2','Sensor3'], axis = 1)"
   ]
  },
  {
   "cell_type": "code",
   "execution_count": 38,
   "metadata": {},
   "outputs": [
    {
     "name": "stdout",
     "output_type": "stream",
     "text": [
      "x test      Sensor0  Sensor1  Sensor2  Sensor3\n",
      "191    25731    27920    25445    29395\n",
      "56     25034    31442    29040    32611\n",
      "233    25043    31242    27683    31454\n",
      "238    25034    31236    27698    31466\n",
      "263    24997    31200    27719    31314\n",
      "..       ...      ...      ...      ...\n",
      "204    24791    30703    27557    31192\n",
      "82     25034    31449    29015    32767\n",
      "22     25002    31258    28922    32369\n",
      "18     25064    31461    29050    32767\n",
      "98     25072    31426    29124    32767\n",
      "\n",
      "[81 rows x 4 columns]\n",
      "x train      Sensor0  Sensor1  Sensor2  Sensor3\n",
      "171    25583    28196    25697    29652\n",
      "72     24989    31543    29102    32495\n",
      "121    25454    28325    25722    29748\n",
      "30     25025    31360    29128    32767\n",
      "99     25067    31400    29192    32767\n",
      "..       ...      ...      ...      ...\n",
      "9      24767    31593    28880    32509\n",
      "304    26083    28800    29048    32047\n",
      "307    25950    28930    29133    32091\n",
      "218    25022    31278    27729    31455\n",
      "43     24953    31637    29069    32556\n",
      "\n",
      "[323 rows x 4 columns]\n",
      "y test      o/p\n",
      "191    3\n",
      "56     0\n",
      "233    1\n",
      "238    1\n",
      "263    1\n",
      "..   ...\n",
      "204    1\n",
      "82     0\n",
      "22     0\n",
      "18     0\n",
      "98     0\n",
      "\n",
      "[81 rows x 1 columns]\n",
      "y train      o/p\n",
      "171    3\n",
      "72     0\n",
      "121    3\n",
      "30     0\n",
      "99     0\n",
      "..   ...\n",
      "9      0\n",
      "304    2\n",
      "307    2\n",
      "218    1\n",
      "43     0\n",
      "\n",
      "[323 rows x 1 columns]\n"
     ]
    }
   ],
   "source": [
    "x_train, x_test, y_train, y_test = train_test_split(x,y,train_size=0.8)\n",
    "x_test.head()\n",
    "print('x test',x_test)\n",
    "print('x train',x_train)\n",
    "print('y test',y_test)\n",
    "print('y train',y_train)"
   ]
  },
  {
   "cell_type": "code",
   "execution_count": 39,
   "metadata": {},
   "outputs": [
    {
     "data": {
      "text/plain": [
       "LinearRegression(copy_X=True, fit_intercept=True, n_jobs=None, normalize=False)"
      ]
     },
     "execution_count": 39,
     "metadata": {},
     "output_type": "execute_result"
    }
   ],
   "source": [
    "model = LinearRegression()\n",
    "model.fit(x_train, y_train)"
   ]
  },
  {
   "cell_type": "code",
   "execution_count": 40,
   "metadata": {},
   "outputs": [
    {
     "name": "stdout",
     "output_type": "stream",
     "text": [
      "accuracy 0.9821886456683678\n"
     ]
    }
   ],
   "source": [
    "#print('output of x_test:',model.predict(x_test))\n",
    "print('accuracy',model.score(x_test,y_test))"
   ]
  },
  {
   "cell_type": "code",
   "execution_count": null,
   "metadata": {},
   "outputs": [],
   "source": []
  }
 ],
 "metadata": {
  "kernelspec": {
   "display_name": "Python 3",
   "language": "python",
   "name": "python3"
  },
  "language_info": {
   "codemirror_mode": {
    "name": "ipython",
    "version": 3
   },
   "file_extension": ".py",
   "mimetype": "text/x-python",
   "name": "python",
   "nbconvert_exporter": "python",
   "pygments_lexer": "ipython3",
   "version": "3.7.6"
  }
 },
 "nbformat": 4,
 "nbformat_minor": 4
}
